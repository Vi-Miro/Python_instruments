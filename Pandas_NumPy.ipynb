{
 "cells": [
  {
   "cell_type": "markdown",
   "id": "471211b3-2fcf-416f-84a2-e69f3adbf2ef",
   "metadata": {},
   "source": [
    "## Пактическая работа №1\n",
    "### Часть 1: NumPy"
   ]
  },
  {
   "cell_type": "code",
   "execution_count": 2,
   "id": "6955e8dc-ffc6-4fe9-8ef5-8dc42e7b3ce6",
   "metadata": {},
   "outputs": [],
   "source": [
    "import numpy as np"
   ]
  },
  {
   "cell_type": "markdown",
   "id": "96b20831-42e3-4961-8989-b81977cc38b8",
   "metadata": {},
   "source": [
    "1. Получить персональный вариант в виде файла Фамилия_Имя.npy. \r\n",
    "Данный файл содержит массив размерности (1,100), состоящий из целых \r\n",
    "чисел.\r\n",
    "2. Загрузить в переменную m массив из персонального файла и вывести его\r\n",
    "на экан.\r"
   ]
  },
  {
   "cell_type": "code",
   "execution_count": 4,
   "id": "76c9b571-5db5-40e2-a839-cef7ce7646cc",
   "metadata": {},
   "outputs": [
    {
     "data": {
      "text/plain": [
       "array([[39, 29, 49, 98, 19, 29, 47, 87, 86, 76, 90, 55, 52, 73, 28, 16,\n",
       "        26, 68, 94, 31, 40, 15, 38, 10, 38, 62, 61, 80, 29, 77,  3, 64,\n",
       "        74,  5, 54, 20, 86, 24, 62, 57, 76, 53, 96, 72, 61, 13,  1, 46,\n",
       "        46, 82, 27, 95, 34, 63, 25, 96, 49, 70, 59, 68, 79, 26, 35,  3,\n",
       "        83, 68, 48, 58, 63, 16, 22, 15, 80, 55, 14, 68, 23, 68, 91, 47,\n",
       "        20, 97,  8, 96, 52, 69, 74, 37,  2, 80, 29, 42, 14, 96, 95, 61,\n",
       "        26, 67, 81, 91]])"
      ]
     },
     "execution_count": 4,
     "metadata": {},
     "output_type": "execute_result"
    }
   ],
   "source": [
    "m = np.load('Мирошниченко_Виктор.npy')\n",
    "m"
   ]
  },
  {
   "cell_type": "code",
   "execution_count": 5,
   "id": "803d2d97-5f7c-4f5b-a515-9369bb3cfad6",
   "metadata": {},
   "outputs": [
    {
     "data": {
      "text/plain": [
       "(1, 100)"
      ]
     },
     "execution_count": 5,
     "metadata": {},
     "output_type": "execute_result"
    }
   ],
   "source": [
    "m.shape"
   ]
  },
  {
   "cell_type": "markdown",
   "id": "7ffb6dfc-c247-442a-a944-b4c474876f7a",
   "metadata": {},
   "source": [
    "3. Преобразовать форму загруженного массива в матрицу размерности\r\n",
    "(10,10). Результат преобразования оставить в переменной m. Вывести \r\n",
    "результаты на экран."
   ]
  },
  {
   "cell_type": "code",
   "execution_count": 7,
   "id": "ef5c2e84-97dd-43dc-9d7d-4464865c9cb9",
   "metadata": {},
   "outputs": [
    {
     "data": {
      "text/plain": [
       "array([[39, 29, 49, 98, 19, 29, 47, 87, 86, 76],\n",
       "       [90, 55, 52, 73, 28, 16, 26, 68, 94, 31],\n",
       "       [40, 15, 38, 10, 38, 62, 61, 80, 29, 77],\n",
       "       [ 3, 64, 74,  5, 54, 20, 86, 24, 62, 57],\n",
       "       [76, 53, 96, 72, 61, 13,  1, 46, 46, 82],\n",
       "       [27, 95, 34, 63, 25, 96, 49, 70, 59, 68],\n",
       "       [79, 26, 35,  3, 83, 68, 48, 58, 63, 16],\n",
       "       [22, 15, 80, 55, 14, 68, 23, 68, 91, 47],\n",
       "       [20, 97,  8, 96, 52, 69, 74, 37,  2, 80],\n",
       "       [29, 42, 14, 96, 95, 61, 26, 67, 81, 91]])"
      ]
     },
     "execution_count": 7,
     "metadata": {},
     "output_type": "execute_result"
    }
   ],
   "source": [
    "m = m.reshape(10,10)\n",
    "m"
   ]
  },
  {
   "cell_type": "code",
   "execution_count": 8,
   "id": "8cf85043-237c-4edd-a547-7f73280844a4",
   "metadata": {},
   "outputs": [
    {
     "data": {
      "text/plain": [
       "(10, 10)"
      ]
     },
     "execution_count": 8,
     "metadata": {},
     "output_type": "execute_result"
    }
   ],
   "source": [
    "m.shape"
   ]
  },
  {
   "cell_type": "markdown",
   "id": "44503ec4-9003-4def-a768-b7710502c588",
   "metadata": {},
   "source": [
    "4. Поместить в переменную m1 фрагмент матрицы m размером (5,4), \r\n",
    "начиная с элемента, расположенного по индексам (1,2). Вывести \r\n",
    "полученную матрицу m1 на экран.\r"
   ]
  },
  {
   "cell_type": "code",
   "execution_count": 10,
   "id": "da6b7fd9-80d9-44b2-b338-efebfae5f549",
   "metadata": {},
   "outputs": [
    {
     "data": {
      "text/plain": [
       "array([[52, 73, 28, 16],\n",
       "       [38, 10, 38, 62],\n",
       "       [74,  5, 54, 20],\n",
       "       [96, 72, 61, 13],\n",
       "       [34, 63, 25, 96]])"
      ]
     },
     "execution_count": 10,
     "metadata": {},
     "output_type": "execute_result"
    }
   ],
   "source": [
    "m1 = m[1:3+3, 2:3+3]\n",
    "m1"
   ]
  },
  {
   "cell_type": "code",
   "execution_count": 11,
   "id": "b51f807d-bdc6-4e72-89fb-1f7e803a3f14",
   "metadata": {},
   "outputs": [
    {
     "data": {
      "text/plain": [
       "(5, 4)"
      ]
     },
     "execution_count": 11,
     "metadata": {},
     "output_type": "execute_result"
    }
   ],
   "source": [
    "m1.shape"
   ]
  },
  {
   "cell_type": "markdown",
   "id": "b442e4db-8965-4f99-805f-1d3aacdb950b",
   "metadata": {},
   "source": [
    " 5. Поместить в переменную m2 фрагмент матрицы m размером (5,4), \r\n",
    "начиная с элемента, расположенного по индексам (4,3). Вывести \r\n",
    "матрицу m2 на экран. "
   ]
  },
  {
   "cell_type": "code",
   "execution_count": 13,
   "id": "7283039f-5853-46ac-8d2b-5479ae11daea",
   "metadata": {},
   "outputs": [
    {
     "data": {
      "text/plain": [
       "array([[72, 61, 13,  1],\n",
       "       [63, 25, 96, 49],\n",
       "       [ 3, 83, 68, 48],\n",
       "       [55, 14, 68, 23],\n",
       "       [96, 52, 69, 74]])"
      ]
     },
     "execution_count": 13,
     "metadata": {},
     "output_type": "execute_result"
    }
   ],
   "source": [
    "m2 = m[4:4+5, 3:3+4]\n",
    "m2"
   ]
  },
  {
   "cell_type": "code",
   "execution_count": 14,
   "id": "17046c36-0d2f-4b19-8302-8aa890eeb6df",
   "metadata": {},
   "outputs": [
    {
     "data": {
      "text/plain": [
       "(5, 4)"
      ]
     },
     "execution_count": 14,
     "metadata": {},
     "output_type": "execute_result"
    }
   ],
   "source": [
    "m2.shape"
   ]
  },
  {
   "cell_type": "markdown",
   "id": "130073cc-c2c1-48c1-a8f7-7ea47cf80b6f",
   "metadata": {},
   "source": [
    "6. Визуально убедиться, что считаны верные фрагменты исходной матрицы\r\n",
    "m.\n",
    "\n",
    "Данные считаны верно(Вроде бы).\r"
   ]
  },
  {
   "cell_type": "markdown",
   "id": "194c17ef-bc35-4cdf-a741-135d8a5a76b1",
   "metadata": {},
   "source": [
    "7. Транспонировать матрицу m2, вывести результаты на экран"
   ]
  },
  {
   "cell_type": "code",
   "execution_count": 17,
   "id": "b66b16f0-1e7d-4094-b5e1-6bc2b01c4d68",
   "metadata": {},
   "outputs": [
    {
     "data": {
      "text/plain": [
       "array([[72, 63,  3, 55, 96],\n",
       "       [61, 25, 83, 14, 52],\n",
       "       [13, 96, 68, 68, 69],\n",
       "       [ 1, 49, 48, 23, 74]])"
      ]
     },
     "execution_count": 17,
     "metadata": {},
     "output_type": "execute_result"
    }
   ],
   "source": [
    "m2_t = np.transpose(m2)\n",
    "m2_t"
   ]
  },
  {
   "cell_type": "code",
   "execution_count": 18,
   "id": "c091c497-adbf-4696-8d64-c9250e2d9a26",
   "metadata": {},
   "outputs": [
    {
     "data": {
      "text/plain": [
       "(4, 5)"
      ]
     },
     "execution_count": 18,
     "metadata": {},
     "output_type": "execute_result"
    }
   ],
   "source": [
    "m2_t.shape"
   ]
  },
  {
   "cell_type": "markdown",
   "id": "874d4237-afc1-4b94-9668-1793494f7182",
   "metadata": {},
   "source": [
    "8. Найти матричное произведение m1 и m2 транспонированной. Вывести \r\n",
    "его на экран.\r"
   ]
  },
  {
   "cell_type": "code",
   "execution_count": 20,
   "id": "54138d07-ad18-4d43-8ab3-2c77441ac4f4",
   "metadata": {},
   "outputs": [
    {
     "data": {
      "text/plain": [
       "array([[ 8577,  8573,  8887,  6154, 11904],\n",
       "       [ 3902,  9330,  6504,  6240, 11378],\n",
       "       [ 6355, 10951,  5269,  8272, 12570],\n",
       "       [12110, 14341, 11036, 10735, 18131],\n",
       "       [ 6712, 10821, 11639,  6660, 15369]])"
      ]
     },
     "execution_count": 20,
     "metadata": {},
     "output_type": "execute_result"
    }
   ],
   "source": [
    "mul_1 = np.dot(m1, m2_t)\n",
    "mul_1"
   ]
  },
  {
   "cell_type": "code",
   "execution_count": 21,
   "id": "af757332-4a11-4d92-8447-cfeeacfe19f4",
   "metadata": {},
   "outputs": [
    {
     "data": {
      "text/plain": [
       "array([[ 8577,  8573,  8887,  6154, 11904],\n",
       "       [ 3902,  9330,  6504,  6240, 11378],\n",
       "       [ 6355, 10951,  5269,  8272, 12570],\n",
       "       [12110, 14341, 11036, 10735, 18131],\n",
       "       [ 6712, 10821, 11639,  6660, 15369]])"
      ]
     },
     "execution_count": 21,
     "metadata": {},
     "output_type": "execute_result"
    }
   ],
   "source": [
    "mul_2 = np.matmul(m1, m2_t)\n",
    "mul_2"
   ]
  },
  {
   "cell_type": "markdown",
   "id": "3dc5c527-8fe0-41cf-a805-7bcf74c91b07",
   "metadata": {},
   "source": [
    "9. Из полученного произведения сделать выборку элементов по условию: \r\n",
    "выбрать только те элементы, значение которых < 10500. Вывести их на \r\n",
    "экран.\r"
   ]
  },
  {
   "cell_type": "code",
   "execution_count": 72,
   "id": "5a959c4e-e7b1-4bac-a7f0-e3d8a6b2909b",
   "metadata": {},
   "outputs": [
    {
     "data": {
      "text/plain": [
       "array([[8577, 8573, 8887, 6154,    0],\n",
       "       [3902, 9330, 6504, 6240,    0],\n",
       "       [6355,    0, 5269, 8272,    0],\n",
       "       [   0,    0,    0,    0,    0],\n",
       "       [6712,    0,    0, 6660,    0]])"
      ]
     },
     "execution_count": 72,
     "metadata": {},
     "output_type": "execute_result"
    }
   ],
   "source": [
    "mul_wh = np.where(mul_1 < 10500, mul_1, 0)\n",
    "mul_wh"
   ]
  },
  {
   "cell_type": "code",
   "execution_count": 91,
   "id": "3cd1873f-ce3f-41d3-8cae-c8ac5980c868",
   "metadata": {},
   "outputs": [
    {
     "data": {
      "text/plain": [
       "[8577, 8573, 8887, 6154, 3902, 9330, 6504, 6240, 6355, 5269, 8272, 6712, 6660]"
      ]
     },
     "execution_count": 91,
     "metadata": {},
     "output_type": "execute_result"
    }
   ],
   "source": [
    "a = []\n",
    "for i in mul_1:\n",
    "    for j in i:\n",
    "        if j < 10500:\n",
    "            a.append(j)\n",
    "a"
   ]
  },
  {
   "cell_type": "markdown",
   "id": "a1f78c38-2916-4e44-b77a-a3f3dae8e914",
   "metadata": {},
   "source": [
    "10. Найти среднее арифметическое элементов условной выборки, вывести \r\n",
    "его на экран, округлив до второго знака после запятой."
   ]
  },
  {
   "cell_type": "code",
   "execution_count": 93,
   "id": "f62ca5a2-33c9-4b9d-96d7-a4cb1a462801",
   "metadata": {},
   "outputs": [
    {
     "data": {
      "text/plain": [
       "7033.46"
      ]
     },
     "execution_count": 93,
     "metadata": {},
     "output_type": "execute_result"
    }
   ],
   "source": [
    "np.mean(a).round(2)"
   ]
  },
  {
   "cell_type": "markdown",
   "id": "f961e791-dcc8-4377-9b4e-6a2bafc5f91e",
   "metadata": {},
   "source": [
    "### Часть 2: Pandas"
   ]
  },
  {
   "cell_type": "code",
   "execution_count": 27,
   "id": "06d5c826-5cd2-420a-a158-4a2e0b47c010",
   "metadata": {},
   "outputs": [],
   "source": [
    "import pandas as pd"
   ]
  },
  {
   "cell_type": "markdown",
   "id": "beac7179-4a4b-4032-9a0c-fa5d4c4983ab",
   "metadata": {},
   "source": [
    "1. Получить персональный вариант в виде файла Фамилия_Имя.csv. \r\n",
    "Данный файл представляет собой фрагмент обезличенной медицинской базы \r\n",
    "данных, в которой зафиксированы значения 4-х показателей для 500 пациентов, \r\n",
    "а именно:\r\n",
    "- height – рост;\r\n",
    "- weight – вес;\r\n",
    "- ap_hi – значение «верхнего» (систолического) артериального давления;\r\n",
    "- ap_lo - значение «нижнего» (диастолического) артериального давления.\r\n",
    "Однако данные не идеальны: местами отсутствуют измерения роста и/или веса, а \r\n",
    "местами показания давления имеют ошибочные \n",
    "\n",
    "2. Загрузить данные из персонального файла средствами Pandas.значения."
   ]
  },
  {
   "cell_type": "code",
   "execution_count": 29,
   "id": "02780d97-447a-471e-9c6c-cd7654796828",
   "metadata": {},
   "outputs": [
    {
     "data": {
      "text/html": [
       "<div>\n",
       "<style scoped>\n",
       "    .dataframe tbody tr th:only-of-type {\n",
       "        vertical-align: middle;\n",
       "    }\n",
       "\n",
       "    .dataframe tbody tr th {\n",
       "        vertical-align: top;\n",
       "    }\n",
       "\n",
       "    .dataframe thead th {\n",
       "        text-align: right;\n",
       "    }\n",
       "</style>\n",
       "<table border=\"1\" class=\"dataframe\">\n",
       "  <thead>\n",
       "    <tr style=\"text-align: right;\">\n",
       "      <th></th>\n",
       "      <th>height</th>\n",
       "      <th>weight</th>\n",
       "      <th>ap_hi</th>\n",
       "      <th>ap_lo</th>\n",
       "    </tr>\n",
       "  </thead>\n",
       "  <tbody>\n",
       "    <tr>\n",
       "      <th>0</th>\n",
       "      <td>170.0</td>\n",
       "      <td>75.0</td>\n",
       "      <td>120</td>\n",
       "      <td>80</td>\n",
       "    </tr>\n",
       "    <tr>\n",
       "      <th>1</th>\n",
       "      <td>164.0</td>\n",
       "      <td>98.0</td>\n",
       "      <td>140</td>\n",
       "      <td>90</td>\n",
       "    </tr>\n",
       "    <tr>\n",
       "      <th>2</th>\n",
       "      <td>155.0</td>\n",
       "      <td>100.0</td>\n",
       "      <td>150</td>\n",
       "      <td>100</td>\n",
       "    </tr>\n",
       "    <tr>\n",
       "      <th>3</th>\n",
       "      <td>158.0</td>\n",
       "      <td>NaN</td>\n",
       "      <td>100</td>\n",
       "      <td>70</td>\n",
       "    </tr>\n",
       "    <tr>\n",
       "      <th>4</th>\n",
       "      <td>164.0</td>\n",
       "      <td>NaN</td>\n",
       "      <td>130</td>\n",
       "      <td>80</td>\n",
       "    </tr>\n",
       "  </tbody>\n",
       "</table>\n",
       "</div>"
      ],
      "text/plain": [
       "   height  weight  ap_hi  ap_lo\n",
       "0   170.0    75.0    120     80\n",
       "1   164.0    98.0    140     90\n",
       "2   155.0   100.0    150    100\n",
       "3   158.0     NaN    100     70\n",
       "4   164.0     NaN    130     80"
      ]
     },
     "execution_count": 29,
     "metadata": {},
     "output_type": "execute_result"
    }
   ],
   "source": [
    "data = pd.read_csv('Мирошниченко_Виктор.csv', sep = ';')\n",
    "data.head()"
   ]
  },
  {
   "cell_type": "code",
   "execution_count": 30,
   "id": "ca619900-daac-4f95-b095-6eaae8a7b4c0",
   "metadata": {},
   "outputs": [
    {
     "data": {
      "text/plain": [
       "height    23\n",
       "weight    25\n",
       "ap_hi      0\n",
       "ap_lo      0\n",
       "dtype: int64"
      ]
     },
     "execution_count": 30,
     "metadata": {},
     "output_type": "execute_result"
    }
   ],
   "source": [
    "data.isna().sum()"
   ]
  },
  {
   "cell_type": "code",
   "execution_count": 31,
   "id": "a8081617-85e5-443a-82ba-ebf0f8ad36e5",
   "metadata": {},
   "outputs": [
    {
     "data": {
      "text/plain": [
       "15"
      ]
     },
     "execution_count": 31,
     "metadata": {},
     "output_type": "execute_result"
    }
   ],
   "source": [
    "data.duplicated().sum()"
   ]
  },
  {
   "cell_type": "code",
   "execution_count": 32,
   "id": "d7d245a4-32a4-47bf-a8de-6ce4a3d73152",
   "metadata": {},
   "outputs": [
    {
     "name": "stdout",
     "output_type": "stream",
     "text": [
      "<class 'pandas.core.frame.DataFrame'>\n",
      "RangeIndex: 500 entries, 0 to 499\n",
      "Data columns (total 4 columns):\n",
      " #   Column  Non-Null Count  Dtype  \n",
      "---  ------  --------------  -----  \n",
      " 0   height  477 non-null    float64\n",
      " 1   weight  475 non-null    float64\n",
      " 2   ap_hi   500 non-null    int64  \n",
      " 3   ap_lo   500 non-null    int64  \n",
      "dtypes: float64(2), int64(2)\n",
      "memory usage: 15.8 KB\n"
     ]
    }
   ],
   "source": [
    "data.info()"
   ]
  },
  {
   "cell_type": "code",
   "execution_count": 33,
   "id": "1727b0cc-27ba-4040-8a60-43a88348617f",
   "metadata": {},
   "outputs": [
    {
     "data": {
      "text/plain": [
       "(500, 4)"
      ]
     },
     "execution_count": 33,
     "metadata": {},
     "output_type": "execute_result"
    }
   ],
   "source": [
    "df_shape_1 = data.shape\n",
    "df_shape_1"
   ]
  },
  {
   "cell_type": "markdown",
   "id": "bf934e77-3c97-46ef-9c5a-de13bf524576",
   "metadata": {},
   "source": [
    "3. Полученные данные необходимо очистить, используя возможности библиотеки \n",
    "Pandas. В данном случае под очисткой подразумевается:\n",
    "- исправление записей, у которых отсутствует только одно из значений роста \n",
    "или веса;\n",
    "- удаление записей, у которых отсутствует значение и роста и веса;\n",
    "- удаление записей, содержащих некорректные значения артериального давления.\n",
    "\n",
    "\n",
    "При этом для определения корректности значений давления нужно использовать \n",
    "следующие правила:\n",
    "- допустимым диапазоном измерения давления будем считать (0, 250];\n",
    "- «верхнее» давление не может быть меньше или равно \"нижнему\".\r"
   ]
  },
  {
   "cell_type": "code",
   "execution_count": 56,
   "id": "b19511e1-fa32-4d4d-9497-0e2b123e5ee6",
   "metadata": {},
   "outputs": [
    {
     "data": {
      "text/html": [
       "<div>\n",
       "<style scoped>\n",
       "    .dataframe tbody tr th:only-of-type {\n",
       "        vertical-align: middle;\n",
       "    }\n",
       "\n",
       "    .dataframe tbody tr th {\n",
       "        vertical-align: top;\n",
       "    }\n",
       "\n",
       "    .dataframe thead th {\n",
       "        text-align: right;\n",
       "    }\n",
       "</style>\n",
       "<table border=\"1\" class=\"dataframe\">\n",
       "  <thead>\n",
       "    <tr style=\"text-align: right;\">\n",
       "      <th></th>\n",
       "      <th>height</th>\n",
       "      <th>weight</th>\n",
       "      <th>ap_hi</th>\n",
       "      <th>ap_lo</th>\n",
       "    </tr>\n",
       "  </thead>\n",
       "  <tbody>\n",
       "    <tr>\n",
       "      <th>0</th>\n",
       "      <td>170.0</td>\n",
       "      <td>75.0</td>\n",
       "      <td>120</td>\n",
       "      <td>80</td>\n",
       "    </tr>\n",
       "    <tr>\n",
       "      <th>1</th>\n",
       "      <td>164.0</td>\n",
       "      <td>98.0</td>\n",
       "      <td>140</td>\n",
       "      <td>90</td>\n",
       "    </tr>\n",
       "    <tr>\n",
       "      <th>2</th>\n",
       "      <td>155.0</td>\n",
       "      <td>100.0</td>\n",
       "      <td>150</td>\n",
       "      <td>100</td>\n",
       "    </tr>\n",
       "    <tr>\n",
       "      <th>3</th>\n",
       "      <td>158.0</td>\n",
       "      <td>NaN</td>\n",
       "      <td>100</td>\n",
       "      <td>70</td>\n",
       "    </tr>\n",
       "    <tr>\n",
       "      <th>4</th>\n",
       "      <td>164.0</td>\n",
       "      <td>NaN</td>\n",
       "      <td>130</td>\n",
       "      <td>80</td>\n",
       "    </tr>\n",
       "    <tr>\n",
       "      <th>...</th>\n",
       "      <td>...</td>\n",
       "      <td>...</td>\n",
       "      <td>...</td>\n",
       "      <td>...</td>\n",
       "    </tr>\n",
       "    <tr>\n",
       "      <th>495</th>\n",
       "      <td>165.0</td>\n",
       "      <td>77.0</td>\n",
       "      <td>140</td>\n",
       "      <td>80</td>\n",
       "    </tr>\n",
       "    <tr>\n",
       "      <th>496</th>\n",
       "      <td>160.0</td>\n",
       "      <td>64.0</td>\n",
       "      <td>130</td>\n",
       "      <td>90</td>\n",
       "    </tr>\n",
       "    <tr>\n",
       "      <th>497</th>\n",
       "      <td>170.0</td>\n",
       "      <td>66.0</td>\n",
       "      <td>120</td>\n",
       "      <td>80</td>\n",
       "    </tr>\n",
       "    <tr>\n",
       "      <th>498</th>\n",
       "      <td>167.0</td>\n",
       "      <td>62.0</td>\n",
       "      <td>120</td>\n",
       "      <td>80</td>\n",
       "    </tr>\n",
       "    <tr>\n",
       "      <th>499</th>\n",
       "      <td>155.0</td>\n",
       "      <td>70.0</td>\n",
       "      <td>120</td>\n",
       "      <td>80</td>\n",
       "    </tr>\n",
       "  </tbody>\n",
       "</table>\n",
       "<p>465 rows × 4 columns</p>\n",
       "</div>"
      ],
      "text/plain": [
       "     height  weight  ap_hi  ap_lo\n",
       "0     170.0    75.0    120     80\n",
       "1     164.0    98.0    140     90\n",
       "2     155.0   100.0    150    100\n",
       "3     158.0     NaN    100     70\n",
       "4     164.0     NaN    130     80\n",
       "..      ...     ...    ...    ...\n",
       "495   165.0    77.0    140     80\n",
       "496   160.0    64.0    130     90\n",
       "497   170.0    66.0    120     80\n",
       "498   167.0    62.0    120     80\n",
       "499   155.0    70.0    120     80\n",
       "\n",
       "[465 rows x 4 columns]"
      ]
     },
     "execution_count": 56,
     "metadata": {},
     "output_type": "execute_result"
    }
   ],
   "source": [
    "# Для начала отберем те строки, в которых давление находится в \"правильном\" диапазоне\n",
    "data = data.query('0 < ap_hi <= 250 and 0 < ap_lo <= 250')\n",
    "data = data[data.ap_hi > data.ap_lo]\n",
    "data"
   ]
  },
  {
   "cell_type": "code",
   "execution_count": 60,
   "id": "abc992c6-27cd-4551-aa39-f6862b9f1fd7",
   "metadata": {},
   "outputs": [
    {
     "data": {
      "text/html": [
       "<div>\n",
       "<style scoped>\n",
       "    .dataframe tbody tr th:only-of-type {\n",
       "        vertical-align: middle;\n",
       "    }\n",
       "\n",
       "    .dataframe tbody tr th {\n",
       "        vertical-align: top;\n",
       "    }\n",
       "\n",
       "    .dataframe thead th {\n",
       "        text-align: right;\n",
       "    }\n",
       "</style>\n",
       "<table border=\"1\" class=\"dataframe\">\n",
       "  <thead>\n",
       "    <tr style=\"text-align: right;\">\n",
       "      <th></th>\n",
       "      <th>height</th>\n",
       "      <th>weight</th>\n",
       "      <th>ap_hi</th>\n",
       "      <th>ap_lo</th>\n",
       "    </tr>\n",
       "  </thead>\n",
       "  <tbody>\n",
       "    <tr>\n",
       "      <th>399</th>\n",
       "      <td>NaN</td>\n",
       "      <td>NaN</td>\n",
       "      <td>100</td>\n",
       "      <td>60</td>\n",
       "    </tr>\n",
       "  </tbody>\n",
       "</table>\n",
       "</div>"
      ],
      "text/plain": [
       "     height  weight  ap_hi  ap_lo\n",
       "399     NaN     NaN    100     60"
      ]
     },
     "execution_count": 60,
     "metadata": {},
     "output_type": "execute_result"
    }
   ],
   "source": [
    "# Найдем строки, в которых отсутствуют значения и роста, и веса\n",
    "data[data.isna().sum(axis = 1) == 2]"
   ]
  },
  {
   "cell_type": "code",
   "execution_count": 60,
   "id": "d1178105-777a-4b5d-b3ae-60dc88480cee",
   "metadata": {},
   "outputs": [
    {
     "data": {
      "text/html": [
       "<div>\n",
       "<style scoped>\n",
       "    .dataframe tbody tr th:only-of-type {\n",
       "        vertical-align: middle;\n",
       "    }\n",
       "\n",
       "    .dataframe tbody tr th {\n",
       "        vertical-align: top;\n",
       "    }\n",
       "\n",
       "    .dataframe thead th {\n",
       "        text-align: right;\n",
       "    }\n",
       "</style>\n",
       "<table border=\"1\" class=\"dataframe\">\n",
       "  <thead>\n",
       "    <tr style=\"text-align: right;\">\n",
       "      <th></th>\n",
       "      <th>height</th>\n",
       "      <th>weight</th>\n",
       "      <th>ap_hi</th>\n",
       "      <th>ap_lo</th>\n",
       "    </tr>\n",
       "  </thead>\n",
       "  <tbody>\n",
       "    <tr>\n",
       "      <th>0</th>\n",
       "      <td>170.0</td>\n",
       "      <td>75.0</td>\n",
       "      <td>120</td>\n",
       "      <td>80</td>\n",
       "    </tr>\n",
       "    <tr>\n",
       "      <th>1</th>\n",
       "      <td>164.0</td>\n",
       "      <td>98.0</td>\n",
       "      <td>140</td>\n",
       "      <td>90</td>\n",
       "    </tr>\n",
       "    <tr>\n",
       "      <th>2</th>\n",
       "      <td>155.0</td>\n",
       "      <td>100.0</td>\n",
       "      <td>150</td>\n",
       "      <td>100</td>\n",
       "    </tr>\n",
       "    <tr>\n",
       "      <th>3</th>\n",
       "      <td>158.0</td>\n",
       "      <td>NaN</td>\n",
       "      <td>100</td>\n",
       "      <td>70</td>\n",
       "    </tr>\n",
       "    <tr>\n",
       "      <th>4</th>\n",
       "      <td>164.0</td>\n",
       "      <td>NaN</td>\n",
       "      <td>130</td>\n",
       "      <td>80</td>\n",
       "    </tr>\n",
       "    <tr>\n",
       "      <th>...</th>\n",
       "      <td>...</td>\n",
       "      <td>...</td>\n",
       "      <td>...</td>\n",
       "      <td>...</td>\n",
       "    </tr>\n",
       "    <tr>\n",
       "      <th>495</th>\n",
       "      <td>165.0</td>\n",
       "      <td>77.0</td>\n",
       "      <td>140</td>\n",
       "      <td>80</td>\n",
       "    </tr>\n",
       "    <tr>\n",
       "      <th>496</th>\n",
       "      <td>160.0</td>\n",
       "      <td>64.0</td>\n",
       "      <td>130</td>\n",
       "      <td>90</td>\n",
       "    </tr>\n",
       "    <tr>\n",
       "      <th>497</th>\n",
       "      <td>170.0</td>\n",
       "      <td>66.0</td>\n",
       "      <td>120</td>\n",
       "      <td>80</td>\n",
       "    </tr>\n",
       "    <tr>\n",
       "      <th>498</th>\n",
       "      <td>167.0</td>\n",
       "      <td>62.0</td>\n",
       "      <td>120</td>\n",
       "      <td>80</td>\n",
       "    </tr>\n",
       "    <tr>\n",
       "      <th>499</th>\n",
       "      <td>155.0</td>\n",
       "      <td>70.0</td>\n",
       "      <td>120</td>\n",
       "      <td>80</td>\n",
       "    </tr>\n",
       "  </tbody>\n",
       "</table>\n",
       "<p>464 rows × 4 columns</p>\n",
       "</div>"
      ],
      "text/plain": [
       "     height  weight  ap_hi  ap_lo\n",
       "0     170.0    75.0    120     80\n",
       "1     164.0    98.0    140     90\n",
       "2     155.0   100.0    150    100\n",
       "3     158.0     NaN    100     70\n",
       "4     164.0     NaN    130     80\n",
       "..      ...     ...    ...    ...\n",
       "495   165.0    77.0    140     80\n",
       "496   160.0    64.0    130     90\n",
       "497   170.0    66.0    120     80\n",
       "498   167.0    62.0    120     80\n",
       "499   155.0    70.0    120     80\n",
       "\n",
       "[464 rows x 4 columns]"
      ]
     },
     "execution_count": 60,
     "metadata": {},
     "output_type": "execute_result"
    }
   ],
   "source": [
    "# Удалим данную строку\n",
    "data = data.drop(index = 399, axis = 0)\n",
    "data"
   ]
  },
  {
   "cell_type": "code",
   "execution_count": 62,
   "id": "01cf2df2-7145-47ae-b505-daa06a52c70d",
   "metadata": {},
   "outputs": [
    {
     "data": {
      "text/html": [
       "<div>\n",
       "<style scoped>\n",
       "    .dataframe tbody tr th:only-of-type {\n",
       "        vertical-align: middle;\n",
       "    }\n",
       "\n",
       "    .dataframe tbody tr th {\n",
       "        vertical-align: top;\n",
       "    }\n",
       "\n",
       "    .dataframe thead th {\n",
       "        text-align: right;\n",
       "    }\n",
       "</style>\n",
       "<table border=\"1\" class=\"dataframe\">\n",
       "  <thead>\n",
       "    <tr style=\"text-align: right;\">\n",
       "      <th></th>\n",
       "      <th>height</th>\n",
       "      <th>weight</th>\n",
       "      <th>ap_hi</th>\n",
       "      <th>ap_lo</th>\n",
       "    </tr>\n",
       "  </thead>\n",
       "  <tbody>\n",
       "    <tr>\n",
       "      <th>0</th>\n",
       "      <td>170.0</td>\n",
       "      <td>75.0</td>\n",
       "      <td>120</td>\n",
       "      <td>80</td>\n",
       "    </tr>\n",
       "    <tr>\n",
       "      <th>1</th>\n",
       "      <td>164.0</td>\n",
       "      <td>98.0</td>\n",
       "      <td>140</td>\n",
       "      <td>90</td>\n",
       "    </tr>\n",
       "    <tr>\n",
       "      <th>2</th>\n",
       "      <td>155.0</td>\n",
       "      <td>100.0</td>\n",
       "      <td>150</td>\n",
       "      <td>100</td>\n",
       "    </tr>\n",
       "    <tr>\n",
       "      <th>3</th>\n",
       "      <td>158.0</td>\n",
       "      <td>74.0</td>\n",
       "      <td>100</td>\n",
       "      <td>70</td>\n",
       "    </tr>\n",
       "    <tr>\n",
       "      <th>4</th>\n",
       "      <td>164.0</td>\n",
       "      <td>74.0</td>\n",
       "      <td>130</td>\n",
       "      <td>80</td>\n",
       "    </tr>\n",
       "    <tr>\n",
       "      <th>...</th>\n",
       "      <td>...</td>\n",
       "      <td>...</td>\n",
       "      <td>...</td>\n",
       "      <td>...</td>\n",
       "    </tr>\n",
       "    <tr>\n",
       "      <th>495</th>\n",
       "      <td>165.0</td>\n",
       "      <td>77.0</td>\n",
       "      <td>140</td>\n",
       "      <td>80</td>\n",
       "    </tr>\n",
       "    <tr>\n",
       "      <th>496</th>\n",
       "      <td>160.0</td>\n",
       "      <td>64.0</td>\n",
       "      <td>130</td>\n",
       "      <td>90</td>\n",
       "    </tr>\n",
       "    <tr>\n",
       "      <th>497</th>\n",
       "      <td>170.0</td>\n",
       "      <td>66.0</td>\n",
       "      <td>120</td>\n",
       "      <td>80</td>\n",
       "    </tr>\n",
       "    <tr>\n",
       "      <th>498</th>\n",
       "      <td>167.0</td>\n",
       "      <td>62.0</td>\n",
       "      <td>120</td>\n",
       "      <td>80</td>\n",
       "    </tr>\n",
       "    <tr>\n",
       "      <th>499</th>\n",
       "      <td>155.0</td>\n",
       "      <td>70.0</td>\n",
       "      <td>120</td>\n",
       "      <td>80</td>\n",
       "    </tr>\n",
       "  </tbody>\n",
       "</table>\n",
       "<p>464 rows × 4 columns</p>\n",
       "</div>"
      ],
      "text/plain": [
       "     height  weight  ap_hi  ap_lo\n",
       "0     170.0    75.0    120     80\n",
       "1     164.0    98.0    140     90\n",
       "2     155.0   100.0    150    100\n",
       "3     158.0    74.0    100     70\n",
       "4     164.0    74.0    130     80\n",
       "..      ...     ...    ...    ...\n",
       "495   165.0    77.0    140     80\n",
       "496   160.0    64.0    130     90\n",
       "497   170.0    66.0    120     80\n",
       "498   167.0    62.0    120     80\n",
       "499   155.0    70.0    120     80\n",
       "\n",
       "[464 rows x 4 columns]"
      ]
     },
     "execution_count": 62,
     "metadata": {},
     "output_type": "execute_result"
    }
   ],
   "source": [
    "# Заполним пустые значения средним значением роста и веса в соответствующих колонках\n",
    "data.height = data.height.fillna(round(data.height.mean(), 0))\n",
    "data.weight = data.weight.fillna(round(data.weight.mean(), 0))\n",
    "data"
   ]
  },
  {
   "cell_type": "markdown",
   "id": "a880d067-00f1-4981-81a1-264048311dd9",
   "metadata": {},
   "source": [
    "Определить, сколько записей было удалено в результате очистки."
   ]
  },
  {
   "cell_type": "code",
   "execution_count": 66,
   "id": "c6e4bf6d-ebfe-47a4-ba74-e6b73842fec7",
   "metadata": {},
   "outputs": [
    {
     "data": {
      "text/plain": [
       "(464, 4)"
      ]
     },
     "execution_count": 66,
     "metadata": {},
     "output_type": "execute_result"
    }
   ],
   "source": [
    "df_shape_2 = data.shape\n",
    "df_shape_2"
   ]
  },
  {
   "cell_type": "code",
   "execution_count": 68,
   "id": "92cd9ffa-cd14-4ff3-91a3-05f40ced216f",
   "metadata": {},
   "outputs": [
    {
     "data": {
      "text/plain": [
       "36"
      ]
     },
     "execution_count": 68,
     "metadata": {},
     "output_type": "execute_result"
    }
   ],
   "source": [
    "df_shape_1[0] - df_shape_2[0]"
   ]
  },
  {
   "cell_type": "markdown",
   "id": "9ad46ff8-a24a-4bbd-8f2c-f81621d420f2",
   "metadata": {},
   "source": [
    "4. Посчитать сумму всех числовых значений в очищенной базе (для упрощения \r\n",
    "процесса проверки)."
   ]
  },
  {
   "cell_type": "code",
   "execution_count": 71,
   "id": "a9a50178-c376-4cd4-b5c1-87fefec89712",
   "metadata": {},
   "outputs": [
    {
     "data": {
      "text/plain": [
       "206443.5"
      ]
     },
     "execution_count": 71,
     "metadata": {},
     "output_type": "execute_result"
    }
   ],
   "source": [
    "data.weight.sum() + data.height.sum() + data.ap_hi.sum() + data.ap_lo.sum()"
   ]
  },
  {
   "cell_type": "markdown",
   "id": "b2f1bde7-77d5-4f4d-9ec6-b018d7cfe346",
   "metadata": {},
   "source": [
    "5. Средствами Pandas (т.е. без явного привлечения других библиотек) построить \n",
    "гистограмму, показывающую частоту встречаемости разных значений для \n",
    "показателя «ap_hi»."
   ]
  },
  {
   "cell_type": "code",
   "execution_count": 62,
   "id": "8926cef8-11b6-4563-a59d-48db1e4d5ab3",
   "metadata": {},
   "outputs": [
    {
     "data": {
      "text/plain": [
       "<Axes: >"
      ]
     },
     "execution_count": 62,
     "metadata": {},
     "output_type": "execute_result"
    },
    {
     "data": {
      "image/png": "[encoded data removed]",
      "text/plain": [
       "<Figure size 640x480 with 1 Axes>"
      ]
     },
     "metadata": {},
     "output_type": "display_data"
    }
   ],
   "source": [
    "data.ap_hi.hist()"
   ]
  }
 ],
 "metadata": {
  "kernelspec": {
   "display_name": "Python 3 (ipykernel)",
   "language": "python",
   "name": "python3"
  },
  "language_info": {
   "codemirror_mode": {
    "name": "ipython",
    "version": 3
   },
   "file_extension": ".py",
   "mimetype": "text/x-python",
   "name": "python",
   "nbconvert_exporter": "python",
   "pygments_lexer": "ipython3",
   "version": "3.12.4"
  }
 },
 "nbformat": 4,
 "nbformat_minor": 5
}
